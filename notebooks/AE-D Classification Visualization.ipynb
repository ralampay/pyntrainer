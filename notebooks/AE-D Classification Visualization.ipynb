{
 "cells": [
  {
   "cell_type": "code",
   "execution_count": 3,
   "id": "45e43f42",
   "metadata": {},
   "outputs": [],
   "source": [
    "import sys\n",
    "import os\n",
    "from pathlib import Path\n",
    "import plotly.express as px\n",
    "import ipywidgets as widgets\n",
    "sys.path.append(os.path.join(os.path.dirname(str(Path().resolve())), 'pyntrainer'))\n",
    "\n",
    "# local module\n",
    "from modules.train_classify import TrainClassify"
   ]
  },
  {
   "cell_type": "code",
   "execution_count": 5,
   "id": "c221de3a",
   "metadata": {},
   "outputs": [],
   "source": [
    "widgets.IntSlider(\n",
    "    value=1,\n",
    "    min=1,\n",
    "    max=1000,\n",
    "    step=1,\n",
    "    description='Epochs:',\n",
    "    disabled=False,\n",
    "    continuous_update=False,\n",
    "    orientation='horizontal',\n",
    "    readout=True,\n",
    "    readout_format='d'\n",
    ")\n",
    "\n",
    "layers = [21, 18]\n",
    "epochs = 100\n",
    "lr = 0.001\n",
    "batch_size = 5\n",
    "device = 'cpu'\n",
    "cont = False\n",
    "\n",
    "params = {\n",
    "    'layers': layers,\n",
    "    'epochs': epochs\n",
    "}"
   ]
  },
  {
   "cell_type": "code",
   "execution_count": null,
   "id": "5be9284a",
   "metadata": {},
   "outputs": [],
   "source": []
  }
 ],
 "metadata": {
  "kernelspec": {
   "display_name": "Python 3",
   "language": "python",
   "name": "python3"
  },
  "language_info": {
   "codemirror_mode": {
    "name": "ipython",
    "version": 3
   },
   "file_extension": ".py",
   "mimetype": "text/x-python",
   "name": "python",
   "nbconvert_exporter": "python",
   "pygments_lexer": "ipython3",
   "version": "3.8.5"
  }
 },
 "nbformat": 4,
 "nbformat_minor": 5
}
